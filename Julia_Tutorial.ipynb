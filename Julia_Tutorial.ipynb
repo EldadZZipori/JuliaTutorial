{
 "cells": [
  {
   "attachments": {},
   "cell_type": "markdown",
   "metadata": {},
   "source": [
    "Basic Variable Types"
   ]
  },
  {
   "cell_type": "code",
   "execution_count": 2,
   "metadata": {},
   "outputs": [
    {
     "data": {
      "text/plain": [
       "String"
      ]
     },
     "metadata": {},
     "output_type": "display_data"
    }
   ],
   "source": [
    "a = 1 + 1\n",
    "typeof(a)   # Int64\n",
    "\n",
    "a = \"Hello\"\n",
    "typeof(a)   # String"
   ]
  },
  {
   "attachments": {},
   "cell_type": "markdown",
   "metadata": {},
   "source": [
    "Numerical Types in Julia - https://www.matecdev.com/posts/julia-types-numerical.html"
   ]
  },
  {
   "cell_type": "code",
   "execution_count": 3,
   "metadata": {},
   "outputs": [
    {
     "data": {
      "text/plain": [
       "Float16(2.0)"
      ]
     },
     "metadata": {},
     "output_type": "display_data"
    }
   ],
   "source": [
    "Float64(2)  # 2.0 (double-precision)\n",
    "Float32(2)  # 2.0f0 (single-precision)\n",
    "Float16(2)  # Float16(2.0) (half-precision)"
   ]
  },
  {
   "attachments": {},
   "cell_type": "markdown",
   "metadata": {},
   "source": [
    "To convert integers to float they have to coincide with an integer exactly"
   ]
  },
  {
   "cell_type": "code",
   "execution_count": null,
   "metadata": {},
   "outputs": [],
   "source": [
    "Int64(2.0)          # 2\n",
    "Int(2.4)            # Error!\n",
    "floor(Int64, 2.4)   # 2\n",
    "ceil(Int64, 2.4)    # 3\n",
    "round(Int64, 2.4)   # 2 "
   ]
  },
  {
   "attachments": {},
   "cell_type": "markdown",
   "metadata": {},
   "source": [
    "Integer Division"
   ]
  },
  {
   "cell_type": "code",
   "execution_count": 6,
   "metadata": {},
   "outputs": [
    {
     "data": {
      "text/plain": [
       "1"
      ]
     },
     "metadata": {},
     "output_type": "display_data"
    }
   ],
   "source": [
    "a = 1/2         # 0.5 (Float64)\n",
    "\n",
    "div(10, 3)      # 3\n",
    "÷(10, 3)        # 3\n",
    "a = 10 ÷ 3      # 3\n",
    "\n",
    "rem(10, 3)      # 1\n",
    "10 % 3          # 1"
   ]
  },
  {
   "cell_type": "code",
   "execution_count": 7,
   "metadata": {},
   "outputs": [
    {
     "data": {
      "text/plain": [
       "Inf"
      ]
     },
     "metadata": {},
     "output_type": "display_data"
    }
   ],
   "source": [
    "a = 2       # Int64 by default\n",
    "a = 1/2^64  # Infinity - 2^64 overflows to 0. 1/0 gives infinity"
   ]
  },
  {
   "cell_type": "code",
   "execution_count": 8,
   "metadata": {},
   "outputs": [
    {
     "data": {
      "text/plain": [
       "Inf"
      ]
     },
     "metadata": {},
     "output_type": "display_data"
    }
   ],
   "source": [
    "2^64        # returns 0 - default overflow value\n",
    "\n",
    "1/2.0^64    # 5.421010862427522e-20\n",
    "(1/2)^64    # 5.421010862427522e-20\n",
    "1.0/2^64    # Inf"
   ]
  },
  {
   "cell_type": "code",
   "execution_count": 10,
   "metadata": {},
   "outputs": [],
   "source": [
    "x = false\n",
    "!x          # returns the opposite of x\n",
    "\n",
    "if x\n",
    "    # do something\n",
    "end\n",
    "\n",
    "if @isdefined(ge) # checks if a variable is defined\n",
    "    print(\"ge is defined\")\n",
    "end\n"
   ]
  },
  {
   "cell_type": "code",
   "execution_count": null,
   "metadata": {},
   "outputs": [],
   "source": [
    "boolToInt = true + true     # Boolean is a subtype of int - will return 2\n"
   ]
  },
  {
   "cell_type": "code",
   "execution_count": 11,
   "metadata": {},
   "outputs": [
    {
     "ename": "ErrorException",
     "evalue": "cannot document the following expression:\n\nH\n",
     "output_type": "error",
     "traceback": [
      "cannot document the following expression:\n",
      "\n",
      "H\n",
      "\n",
      "\n",
      "Stacktrace:\n",
      " [1] error(::String, ::String)\n",
      "   @ Base .\\error.jl:44\n",
      " [2] top-level scope\n",
      "   @ c:\\Users\\eldad\\OneDrive\\Desktop\\Julia Tutorial\\Julia_Tutorial.ipynb:1"
     ]
    }
   ],
   "source": [
    "\"Hello\"     # string\n",
    "'H'         # char\n",
    "'Hello'     # error - char cannot contain multiple characters"
   ]
  },
  {
   "cell_type": "code",
   "execution_count": 12,
   "metadata": {},
   "outputs": [
    {
     "data": {
      "text/plain": [
       "\"Hello world\""
      ]
     },
     "metadata": {},
     "output_type": "display_data"
    }
   ],
   "source": [
    "\"Hello \" * \"wor\" * \"ld\"         # String concatenate\n",
    "string(\"Hello\", \" \", \"world\")"
   ]
  },
  {
   "attachments": {},
   "cell_type": "markdown",
   "metadata": {},
   "source": [
    "Converting numbers to strings"
   ]
  },
  {
   "cell_type": "code",
   "execution_count": 23,
   "metadata": {},
   "outputs": [
    {
     "ename": "ErrorException",
     "evalue": "cannot document the following expression:\n\n(Printf).format(Printf.Format{Base.CodeUnits{UInt8, String}, Tuple{Printf.Spec{Val{'f'}}}}(UInt8[0x25, 0x2e, 0x34, 0x66], UnitRange{Int64}[1:0, 5:4], (%.4f,)), 1 / 7)\n",
     "output_type": "error",
     "traceback": [
      "cannot document the following expression:\n",
      "\n",
      "(Printf).format(Printf.Format{Base.CodeUnits{UInt8, String}, Tuple{Printf.Spec{Val{'f'}}}}(UInt8[0x25, 0x2e, 0x34, 0x66], UnitRange{Int64}[1:0, 5:4], (%.4f,)), 1 / 7)\n",
      "\n",
      "\n",
      "Stacktrace:\n",
      " [1] error(::String, ::String)\n",
      "   @ Base .\\error.jl:44\n",
      " [2] top-level scope\n",
      "   @ c:\\Users\\eldad\\OneDrive\\Desktop\\Julia Tutorial\\Julia_Tutorial.ipynb:2"
     ]
    }
   ],
   "source": [
    "string(1/7)                 # returns \"0.14285714285714285\"\n",
    "\"$(1/7)\"                    # returns \"0.14285714285714285\"\n",
    "`@sprintf(\"%6.4f\", 1/7)`    # returns `\"0.1429\"`"
   ]
  },
  {
   "attachments": {},
   "cell_type": "markdown",
   "metadata": {},
   "source": [
    "Concatenate numbers to a string"
   ]
  },
  {
   "cell_type": "code",
   "execution_count": 14,
   "metadata": {},
   "outputs": [
    {
     "data": {
      "text/plain": [
       "\"In ancient Babylon they approximated pi to 25/8, which is 3.125\""
      ]
     },
     "metadata": {},
     "output_type": "display_data"
    }
   ],
   "source": [
    "string(\"In ancient Babylon they approximated pi to 25/8, which is \", 25/8)"
   ]
  },
  {
   "attachments": {},
   "cell_type": "markdown",
   "metadata": {},
   "source": [
    "String interpolation"
   ]
  },
  {
   "cell_type": "code",
   "execution_count": 15,
   "metadata": {},
   "outputs": [
    {
     "data": {
      "text/plain": [
       "\"In ancient Babylon they approximated pi to 25/8, which is 3.125\""
      ]
     },
     "metadata": {},
     "output_type": "display_data"
    }
   ],
   "source": [
    "\"In ancient Babylon they approximated pi to 25/8, which is $(25/8)\"\n"
   ]
  },
  {
   "cell_type": "code",
   "execution_count": 16,
   "metadata": {},
   "outputs": [
    {
     "data": {
      "text/plain": [
       "\"Our model has a R^2 of 0.94, rmse of 1.5, and mse of 1.1\""
      ]
     },
     "metadata": {},
     "output_type": "display_data"
    }
   ],
   "source": [
    "rmse = 1.5; mse = 1.1; R2 = 0.94\n",
    "\"Our model has a R^2 of $(R2), rmse of $(rmse), and mse of $(mse)\""
   ]
  },
  {
   "attachments": {},
   "cell_type": "markdown",
   "metadata": {},
   "source": [
    "We can use c-style printf to limit the number of decimal point or to use a specific scientific notation\n",
    "\n",
    "%.4f - 4 decimal digits - 100.1429\n",
    "%.4e - Scientific notation with 4 digits - 1.4286e-05"
   ]
  },
  {
   "cell_type": "code",
   "execution_count": 21,
   "metadata": {},
   "outputs": [
    {
     "data": {
      "text/plain": [
       "\"0.1429\""
      ]
     },
     "metadata": {},
     "output_type": "display_data"
    }
   ],
   "source": [
    "using Printf\n",
    "str = @sprintf(\"Archimedes approximated pi to 22/7, which is %.4f...\", 22/7)"
   ]
  },
  {
   "attachments": {},
   "cell_type": "markdown",
   "metadata": {},
   "source": [
    "For loops - "
   ]
  },
  {
   "cell_type": "code",
   "execution_count": 5,
   "metadata": {},
   "outputs": [
    {
     "data": {
      "text/plain": [
       "1.6449240668982423"
      ]
     },
     "metadata": {},
     "output_type": "display_data"
    }
   ],
   "source": [
    "x = 0\n",
    "for k in 1:100000       # note includes the left hand and the right hand of the range\n",
    "    x = x + (1/k)^2\n",
    "end\n",
    "x"
   ]
  },
  {
   "cell_type": "code",
   "execution_count": 7,
   "metadata": {},
   "outputs": [
    {
     "name": "stdout",
     "output_type": "stream",
     "text": [
      "i=1 j=1\n",
      "i=1 j=2\n",
      "i=1 j=3\n",
      "i=2 j=1\n",
      "i=2 j=2\n",
      "i=2 j=3\n",
      "i=3 j=1\n",
      "i=3 j=2\n",
      "i=3 j=3\n"
     ]
    }
   ],
   "source": [
    "for i in 1:3\n",
    "    for j in 1:3\n",
    "        print(\"i=\", i, \" j=\", j, \"\\n\")\n",
    "    end\n",
    "end"
   ]
  },
  {
   "attachments": {},
   "cell_type": "markdown",
   "metadata": {},
   "source": [
    "Julia style nested loop"
   ]
  },
  {
   "cell_type": "code",
   "execution_count": 9,
   "metadata": {},
   "outputs": [
    {
     "name": "stdout",
     "output_type": "stream",
     "text": [
      "i=1 j=1\n",
      "i=1 j=2\n",
      "i=1 j=3\n",
      "i=2 j=1\n",
      "i=2 j=2\n",
      "i=2 j=3\n",
      "i=3 j=1\n",
      "i=3 j=2\n",
      "i=3 j=3\n"
     ]
    }
   ],
   "source": [
    "for i in 1:3, j in 1:3\n",
    "    print(\"i=\", i, \" j=\", j, \"\\n\")\n",
    "end"
   ]
  },
  {
   "attachments": {},
   "cell_type": "markdown",
   "metadata": {},
   "source": [
    "Julia even nicer loops"
   ]
  },
  {
   "cell_type": "code",
   "execution_count": 11,
   "metadata": {},
   "outputs": [
    {
     "name": "stdout",
     "output_type": "stream",
     "text": [
      "i=1 j=1\n",
      "i=1 j=2\n",
      "i=1 j=3\n",
      "i=2 j=1\n",
      "i=2 j=2\n",
      "i=2 j=3\n",
      "i=3 j=1\n",
      "i=3 j=2\n",
      "i=3 j=3\n"
     ]
    }
   ],
   "source": [
    "for i ∈ 1:3, j ∈ 1:3\n",
    "    print(\"i=\", i, \" j=\", j, \"\\n\")\n",
    "end"
   ]
  },
  {
   "attachments": {},
   "cell_type": "markdown",
   "metadata": {},
   "source": [
    "Break and Continue\n",
    "\n",
    "Note: they are bad practice, use only as placeholders for unclompleted code"
   ]
  },
  {
   "cell_type": "code",
   "execution_count": 12,
   "metadata": {},
   "outputs": [],
   "source": [
    "x = 0\n",
    "for k ∈ 1:100000\n",
    "    term = (1/k)^2\n",
    "    x = x + term\n",
    "    if (abs(term) < 1e-10) break end \n",
    "end"
   ]
  },
  {
   "cell_type": "code",
   "execution_count": 14,
   "metadata": {},
   "outputs": [
    {
     "ename": "UndefVarError",
     "evalue": "UndefVarError: term not defined",
     "output_type": "error",
     "traceback": [
      "UndefVarError: term not defined\n",
      "\n",
      "Stacktrace:\n",
      " [1] top-level scope\n",
      "   @ c:\\Users\\eldad\\OneDrive\\Desktop\\Julia Tutorial\\Julia_Tutorial.ipynb:3"
     ]
    }
   ],
   "source": [
    "numbers = randn(100)\n",
    "sum = 0\n",
    "for k in numbers\n",
    "    if (k==0) continue end\n",
    "    sum = sum "
   ]
  },
  {
   "attachments": {},
   "cell_type": "markdown",
   "metadata": {},
   "source": [
    "Functions"
   ]
  },
  {
   "cell_type": "code",
   "execution_count": 17,
   "metadata": {},
   "outputs": [
    {
     "data": {
      "text/plain": [
       "sum_zeta (generic function with 1 method)"
      ]
     },
     "metadata": {},
     "output_type": "display_data"
    }
   ],
   "source": [
    "function sum_zeta(s, nterms)\n",
    "    x = 0\n",
    "    for n in 1:nterms\n",
    "        x = x + (1/n)^s\n",
    "    end\n",
    "    return x\n",
    "end\n"
   ]
  },
  {
   "cell_type": "code",
   "execution_count": 18,
   "metadata": {},
   "outputs": [
    {
     "data": {
      "text/plain": [
       "1.6449240668982423"
      ]
     },
     "metadata": {},
     "output_type": "display_data"
    }
   ],
   "source": [
    "sum_zeta(2, 100000)"
   ]
  },
  {
   "attachments": {},
   "cell_type": "markdown",
   "metadata": {},
   "source": [
    "One-line function"
   ]
  },
  {
   "cell_type": "code",
   "execution_count": 19,
   "metadata": {},
   "outputs": [
    {
     "data": {
      "text/plain": [
       "sum_zeta (generic function with 1 method)"
      ]
     },
     "metadata": {},
     "output_type": "display_data"
    }
   ],
   "source": [
    "sum_zeta(s, nterms) = sum(1/n^s for n=1:nterms)"
   ]
  },
  {
   "cell_type": "code",
   "execution_count": 20,
   "metadata": {},
   "outputs": [
    {
     "data": {
      "text/plain": [
       "1.6449240668982423"
      ]
     },
     "metadata": {},
     "output_type": "display_data"
    }
   ],
   "source": [
    "sum_zeta(2, 100000)"
   ]
  },
  {
   "attachments": {},
   "cell_type": "markdown",
   "metadata": {},
   "source": [
    "Optional arguments"
   ]
  },
  {
   "cell_type": "code",
   "execution_count": 24,
   "metadata": {},
   "outputs": [
    {
     "data": {
      "text/plain": [
       "1.6448340718480652"
      ]
     },
     "metadata": {},
     "output_type": "display_data"
    }
   ],
   "source": [
    "sum_zeta(s, nterms=10000) = sum(1/n^s for n=1:nterms)\n",
    "\n",
    "sum_zeta(2)"
   ]
  },
  {
   "attachments": {},
   "cell_type": "markdown",
   "metadata": {},
   "source": [
    "To make a keword argument place  semicolon before that argument"
   ]
  },
  {
   "cell_type": "code",
   "execution_count": 25,
   "metadata": {},
   "outputs": [
    {
     "data": {
      "text/plain": [
       "1.64493306684877"
      ]
     },
     "metadata": {},
     "output_type": "display_data"
    }
   ],
   "source": [
    "sum_zeta(s; nterms=10000) = sum(1/n^s for n=1:nterms)\n",
    "\n",
    "sum_zeta(2)\n",
    "sum_zeta(2, nterms = 1e6)"
   ]
  },
  {
   "attachments": {},
   "cell_type": "markdown",
   "metadata": {},
   "source": [
    "Multiple outputs are returned as a tuple"
   ]
  },
  {
   "cell_type": "code",
   "execution_count": 27,
   "metadata": {},
   "outputs": [
    {
     "data": {
      "text/plain": [
       "(7.0685834705770345, 9.42477796076938)"
      ]
     },
     "metadata": {},
     "output_type": "display_data"
    }
   ],
   "source": [
    "function circle(r)\n",
    "    area = π * r^2\n",
    "    circumference = 2π * r\n",
    "    return area, circumference\n",
    "    \n",
    "end\n",
    "\n",
    "a, c = circle(1.5)"
   ]
  },
  {
   "cell_type": "code",
   "execution_count": 28,
   "metadata": {},
   "outputs": [
    {
     "data": {
      "text/plain": [
       "(7.0685834705770345, 9.42477796076938)"
      ]
     },
     "metadata": {},
     "output_type": "display_data"
    }
   ],
   "source": [
    "shape = circle(1.5)\n",
    "shape[1]\n",
    "shape[2]\n",
    "a, c = shape"
   ]
  },
  {
   "attachments": {},
   "cell_type": "markdown",
   "metadata": {},
   "source": [
    "Functions usually modify their inputs. The convention is to append a ! in the end of the function name that changes the inputs"
   ]
  },
  {
   "cell_type": "code",
   "execution_count": 29,
   "metadata": {},
   "outputs": [
    {
     "data": {
      "text/plain": [
       "3-element Vector{Int64}:\n",
       " 2\n",
       " 3\n",
       " 4"
      ]
     },
     "metadata": {},
     "output_type": "display_data"
    }
   ],
   "source": [
    "function add_one!(x)\n",
    "    x .= x .+ 1\n",
    "end\n",
    "\n",
    "x = [1,2,3]\n",
    "add_one!(x)"
   ]
  },
  {
   "attachments": {},
   "cell_type": "markdown",
   "metadata": {},
   "source": [
    "Anonymous functions"
   ]
  },
  {
   "cell_type": "code",
   "execution_count": 31,
   "metadata": {},
   "outputs": [
    {
     "data": {
      "text/plain": [
       "secant (generic function with 1 method)"
      ]
     },
     "metadata": {},
     "output_type": "display_data"
    }
   ],
   "source": [
    "function secant(f, a, b, rtol, maxIters)\n",
    "    iter = 0\n",
    "    while abs(b-a) > rtol*abs(b) && iter < maxIters\n",
    "        c,a = a,b\n",
    "        b = b + (b-a) / (f(c)/f(b)-1)\n",
    "        iter = iter + 1\n",
    "    end\n",
    "    return b\n",
    "end "
   ]
  },
  {
   "cell_type": "code",
   "execution_count": 32,
   "metadata": {},
   "outputs": [
    {
     "data": {
      "text/plain": [
       "2.0"
      ]
     },
     "metadata": {},
     "output_type": "display_data"
    }
   ],
   "source": [
    "ϕ = secant(X -> X^2 - X - 1, 1, 2, 1e-15, 10)"
   ]
  },
  {
   "attachments": {},
   "cell_type": "markdown",
   "metadata": {},
   "source": [
    "Calling functions in a separate file -\n",
    "Use the include function with the path to the file"
   ]
  },
  {
   "cell_type": "code",
   "execution_count": null,
   "metadata": {},
   "outputs": [],
   "source": [
    "include(\"path/to/file.jl\")"
   ]
  },
  {
   "attachments": {},
   "cell_type": "markdown",
   "metadata": {},
   "source": [
    "Arrays, vectors, and matrices"
   ]
  },
  {
   "cell_type": "code",
   "execution_count": 33,
   "metadata": {},
   "outputs": [
    {
     "data": {
      "text/plain": [
       "3×3 Matrix{Int64}:\n",
       " 1  2  3\n",
       " 1  2  4\n",
       " 2  2  2"
      ]
     },
     "metadata": {},
     "output_type": "display_data"
    }
   ],
   "source": [
    "A = [1 2 3; 1 2 4; 2 2 2]       # 3x3 Matrix(Float64)\n",
    "A = [1 2 3;\n",
    "     1 2 4;\n",
    "     2 2 2]"
   ]
  },
  {
   "cell_type": "code",
   "execution_count": 34,
   "metadata": {},
   "outputs": [
    {
     "data": {
      "text/plain": [
       "1×3 Matrix{Float64}:\n",
       " 4.0  5.0  6.0"
      ]
     },
     "metadata": {},
     "output_type": "display_data"
    }
   ],
   "source": [
    "b1 = [4.0, 5, 6]        # 3 element Vector(Float64)\n",
    "b2 = [4.0; 5; 6]        # 3 element Vector(Float64)\n",
    "m1 = [4.0 5 6]          # 1x3 Matrix(Float64)"
   ]
  },
  {
   "cell_type": "code",
   "execution_count": 35,
   "metadata": {},
   "outputs": [
    {
     "data": {
      "text/plain": [
       "4-element Vector{Any}:\n",
       "  \"hello\"\n",
       " 1\n",
       " 2\n",
       " 3"
      ]
     },
     "metadata": {},
     "output_type": "display_data"
    }
   ],
   "source": [
    "A = [\"hello\", 1, 2, 3]\n"
   ]
  },
  {
   "cell_type": "code",
   "execution_count": 36,
   "metadata": {},
   "outputs": [
    {
     "data": {
      "text/plain": [
       "1.644924066898228"
      ]
     },
     "metadata": {},
     "output_type": "display_data"
    }
   ],
   "source": [
    "v = [1/n^2 for n = 1:100000]\n",
    "x = sum(v)"
   ]
  },
  {
   "attachments": {},
   "cell_type": "markdown",
   "metadata": {},
   "source": [
    "When using parenthesis instead of the square backets, Julia will produce a slightly different object: a generator.\n",
    "\n",
    "This will only producce the required values when needed."
   ]
  },
  {
   "cell_type": "code",
   "execution_count": null,
   "metadata": {},
   "outputs": [],
   "source": [
    "gen = (1/n^2 for n=1:100000)\n",
    "x = sum(gen)"
   ]
  },
  {
   "attachments": {},
   "cell_type": "markdown",
   "metadata": {},
   "source": [
    "Undefined arrays - better we are only allocating the memory without initilizing it with zeroes even"
   ]
  },
  {
   "cell_type": "code",
   "execution_count": 39,
   "metadata": {},
   "outputs": [
    {
     "data": {
      "text/plain": [
       "5-element Vector{Float64}:\n",
       " 6.3659873744e-314\n",
       " 1.0609978957e-313\n",
       " 1.27319747483e-313\n",
       " 2.1219957944e-314\n",
       " 8.4019894917e-312"
      ]
     },
     "metadata": {},
     "output_type": "display_data"
    }
   ],
   "source": [
    "n = 5\n",
    "A1 = Array{Float64}(undef, n, n)\n",
    "A2 = Matrix{Float64}(undef, n, n)\n",
    "\n",
    "V1 = Array{Float64}(undef, n)\n",
    "V2 = Vector{Float64}(undef, n)\n"
   ]
  },
  {
   "cell_type": "code",
   "execution_count": 40,
   "metadata": {},
   "outputs": [
    {
     "data": {
      "text/plain": [
       "5-element Vector{Any}:\n",
       " #undef\n",
       " #undef\n",
       " #undef\n",
       " #undef\n",
       " #undef"
      ]
     },
     "metadata": {},
     "output_type": "display_data"
    }
   ],
   "source": [
    "A = Array{String}(undef, n)\n",
    "A = Array{Any}(undef, n)"
   ]
  },
  {
   "cell_type": "code",
   "execution_count": 41,
   "metadata": {},
   "outputs": [
    {
     "data": {
      "text/plain": [
       "Float64[]"
      ]
     },
     "metadata": {},
     "output_type": "display_data"
    }
   ],
   "source": [
    "v = Array{Float64}(undef, 0)"
   ]
  },
  {
   "cell_type": "code",
   "execution_count": 42,
   "metadata": {},
   "outputs": [
    {
     "data": {
      "text/plain": [
       "Float64[]"
      ]
     },
     "metadata": {},
     "output_type": "display_data"
    }
   ],
   "source": [
    "v = Float64[]"
   ]
  },
  {
   "cell_type": "code",
   "execution_count": 43,
   "metadata": {},
   "outputs": [
    {
     "data": {
      "text/plain": [
       "Any[]"
      ]
     },
     "metadata": {},
     "output_type": "display_data"
    }
   ],
   "source": [
    "v = []"
   ]
  },
  {
   "cell_type": "code",
   "execution_count": 45,
   "metadata": {},
   "outputs": [
    {
     "data": {
      "text/plain": [
       "8×9 Matrix{Float64}:\n",
       " 1.0  1.0  1.0  1.0  1.0  1.0  1.0  1.0  1.0\n",
       " 1.0  1.0  1.0  1.0  1.0  1.0  1.0  1.0  1.0\n",
       " 1.0  1.0  1.0  1.0  1.0  1.0  1.0  1.0  1.0\n",
       " 1.0  1.0  1.0  1.0  1.0  1.0  1.0  1.0  1.0\n",
       " 1.0  1.0  1.0  1.0  1.0  1.0  1.0  1.0  1.0\n",
       " 1.0  1.0  1.0  1.0  1.0  1.0  1.0  1.0  1.0\n",
       " 1.0  1.0  1.0  1.0  1.0  1.0  1.0  1.0  1.0\n",
       " 1.0  1.0  1.0  1.0  1.0  1.0  1.0  1.0  1.0"
      ]
     },
     "metadata": {},
     "output_type": "display_data"
    }
   ],
   "source": [
    "A = zeros(8,9)\n",
    "B = ones(8, 9)"
   ]
  },
  {
   "cell_type": "code",
   "execution_count": 46,
   "metadata": {},
   "outputs": [
    {
     "data": {
      "text/plain": [
       "6×6 Matrix{Float64}:\n",
       " 0.191493  0.287348  0.66946   0.924031  0.0798707  0.797868\n",
       " 0.480044  0.140499  0.34773   0.758746  0.0176689  0.907817\n",
       " 0.136655  0.766464  0.547338  0.985306  0.873089   0.804034\n",
       " 0.232617  0.965649  0.432608  0.919206  0.732624   0.715152\n",
       " 0.410513  0.377136  0.5951    0.10094   0.0570057  0.59912\n",
       " 0.46776   0.636297  0.500331  0.543724  0.710328   0.155327"
      ]
     },
     "metadata": {},
     "output_type": "display_data"
    }
   ],
   "source": [
    "C = rand(6,6)"
   ]
  },
  {
   "cell_type": "code",
   "execution_count": 47,
   "metadata": {},
   "outputs": [
    {
     "data": {
      "text/plain": [
       "2×2 Matrix{Float64}:\n",
       " 5.98081   0.889244\n",
       " 0.927222  5.6827"
      ]
     },
     "metadata": {},
     "output_type": "display_data"
    }
   ],
   "source": [
    "using LinearAlgebra\n",
    "\n",
    "M = 5I + rand(2,2)\n"
   ]
  },
  {
   "cell_type": "code",
   "execution_count": 49,
   "metadata": {},
   "outputs": [
    {
     "data": {
      "text/plain": [
       "30-element Vector{Float64}:\n",
       " 18.383886633134814\n",
       "  8.55770151410267\n",
       "  5.11671431742654\n",
       "  3.353333929033819\n",
       "  2.3082162000107957\n",
       "  1.6431863658206738\n",
       "  1.2015046969739323\n",
       "  0.8989201052199165\n",
       "  0.6862922515493683\n",
       "  0.5335238620487099\n",
       "  ⋮\n",
       "  0.0646159000414539\n",
       "  0.056913991216668146\n",
       "  0.05037752063018935\n",
       "  0.0447960758761785\n",
       "  0.04000285371284216\n",
       "  0.035864552856086473\n",
       "  0.03227383743757451\n",
       "  0.029143663711431032\n",
       "  0.026402970924539096"
      ]
     },
     "metadata": {},
     "output_type": "display_data"
    }
   ],
   "source": [
    "f(x) = 3x^3/(1+x^2)\n",
    "x = [2π/n for n=1:30]\n",
    "y = f.(x)"
   ]
  },
  {
   "cell_type": "code",
   "execution_count": 50,
   "metadata": {},
   "outputs": [
    {
     "data": {
      "text/plain": [
       "30-element Vector{Float64}:\n",
       " -2.4492935982947064e-16\n",
       "  1.2246467991473532e-16\n",
       "  0.8660254037844387\n",
       "  1.0\n",
       "  0.9510565162951535\n",
       "  0.8660254037844386\n",
       "  0.7818314824680298\n",
       "  0.7071067811865475\n",
       "  0.6427876096865393\n",
       "  0.5877852522924731\n",
       "  ⋮\n",
       "  0.28173255684142967\n",
       "  0.2697967711570243\n",
       "  0.25881904510252074\n",
       "  0.2486898871648548\n",
       "  0.23931566428755774\n",
       "  0.23061587074244017\n",
       "  0.2225209339563144\n",
       "  0.21497044021102407\n",
       "  0.20791169081775931"
      ]
     },
     "metadata": {},
     "output_type": "display_data"
    }
   ],
   "source": [
    "y = sin.(x)"
   ]
  },
  {
   "cell_type": "code",
   "execution_count": 52,
   "metadata": {},
   "outputs": [
    {
     "data": {
      "text/plain": [
       "30-element Vector{Float64}:\n",
       "     -4.828671033653536e6\n",
       " -18039.263768983117\n",
       "   -610.7857528421777\n",
       "    -40.50500091388652\n",
       "      0.12239075156841928\n",
       "      3.0788623155395416\n",
       "      2.5165970179806223\n",
       "      1.8406756088311296\n",
       "      1.3594357907060943\n",
       "      1.0347659706787375\n",
       "      ⋮\n",
       "      0.16874585207464307\n",
       "      0.15375911701431397\n",
       "      0.14072317776024484\n",
       "      0.12930739401638117\n",
       "      0.1192493881563927\n",
       "      0.11033861036842828\n",
       "      0.10240437795375669\n",
       "      0.09530704253783058\n",
       "      0.08893137900051265"
      ]
     },
     "metadata": {},
     "output_type": "display_data"
    }
   ],
   "source": [
    "y = 2x.^2 + 3x.^5 - 2x.^8"
   ]
  },
  {
   "cell_type": "code",
   "execution_count": 54,
   "metadata": {},
   "outputs": [
    {
     "data": {
      "text/plain": [
       "30-element Vector{Float64}:\n",
       "     -4.828671033653536e6\n",
       " -18039.263768983117\n",
       "   -610.7857528421777\n",
       "    -40.50500091388652\n",
       "      0.12239075156841928\n",
       "      3.0788623155395416\n",
       "      2.5165970179806223\n",
       "      1.8406756088311296\n",
       "      1.3594357907060943\n",
       "      1.0347659706787375\n",
       "      ⋮\n",
       "      0.16874585207464307\n",
       "      0.15375911701431397\n",
       "      0.14072317776024484\n",
       "      0.12930739401638117\n",
       "      0.1192493881563927\n",
       "      0.11033861036842828\n",
       "      0.10240437795375669\n",
       "      0.09530704253783058\n",
       "      0.08893137900051265"
      ]
     },
     "metadata": {},
     "output_type": "display_data"
    }
   ],
   "source": [
    "y = @__dot__ 2x^2 + 3x^5 - 2x^8"
   ]
  },
  {
   "cell_type": "code",
   "execution_count": 1,
   "metadata": {},
   "outputs": [
    {
     "data": {
      "text/plain": [
       "0.4182903702084776"
      ]
     },
     "metadata": {},
     "output_type": "display_data"
    }
   ],
   "source": [
    "A = rand(6)\n",
    "A[begin]\n",
    "A[end]"
   ]
  },
  {
   "cell_type": "code",
   "execution_count": 3,
   "metadata": {},
   "outputs": [
    {
     "data": {
      "text/plain": [
       "2×3 Matrix{Float64}:\n",
       " 0.490065  0.650766  0.555054\n",
       " 0.789947  0.135769  0.922114"
      ]
     },
     "metadata": {},
     "output_type": "display_data"
    }
   ],
   "source": [
    "A = rand(6,6)\n",
    "B = A[begin:2:end,begin:2:end]\n",
    "C = A[1:2:3, 1:2:5]"
   ]
  },
  {
   "attachments": {},
   "cell_type": "markdown",
   "metadata": {},
   "source": [
    "Logical Indexing"
   ]
  },
  {
   "cell_type": "code",
   "execution_count": 9,
   "metadata": {},
   "outputs": [
    {
     "data": {
      "text/plain": [
       "20-element view(::Vector{Float64}, [3, 11, 12, 14, 15, 16, 17, 18, 19, 20, 21, 24, 26, 27, 28, 30, 32, 33, 35, 36]) with eltype Float64:\n",
       " 0.0\n",
       " 0.0\n",
       " 0.0\n",
       " 0.0\n",
       " 0.0\n",
       " 0.0\n",
       " 0.0\n",
       " 0.0\n",
       " 0.0\n",
       " 0.0\n",
       " 0.0\n",
       " 0.0\n",
       " 0.0\n",
       " 0.0\n",
       " 0.0\n",
       " 0.0\n",
       " 0.0\n",
       " 0.0\n",
       " 0.0\n",
       " 0.0"
      ]
     },
     "metadata": {},
     "output_type": "display_data"
    }
   ],
   "source": [
    "A = rand(6,6)\n",
    "A[A .< 0.5] .= 0 # conditional indexing\n",
    "# A .< 0.5 creates an array of booleans"
   ]
  },
  {
   "attachments": {},
   "cell_type": "markdown",
   "metadata": {},
   "source": [
    "Iterating over an Array"
   ]
  },
  {
   "cell_type": "code",
   "execution_count": 11,
   "metadata": {},
   "outputs": [
    {
     "name": "stdout",
     "output_type": "stream",
     "text": [
      "i=1 A[i]=0.48280924260278446\n",
      "i=2 A[i]=0.5805539733179411\n",
      "i=3 A[i]=0.07139432641042165\n",
      "i=4 A[i]=0.5650204894081494\n",
      "i=5 A[i]=0.4457510481116064\n",
      "i=6 A[i]=0.6553933507552993\n"
     ]
    }
   ],
   "source": [
    "A = rand(6)\n",
    "\n",
    "for i ∈ eachindex(A)\n",
    "    println(string(\"i=$(i) A[i]=$(A[i])\"))\n",
    "end"
   ]
  },
  {
   "cell_type": "code",
   "execution_count": 13,
   "metadata": {},
   "outputs": [
    {
     "name": "stdout",
     "output_type": "stream",
     "text": [
      "i=1 j=1 A[i,j]=0.37541815701664905\n",
      "i=1 j=2 A[i,j]=0.49272578856722204\n",
      "i=1 j=3 A[i,j]=0.9739186189475326\n",
      "i=1 j=4 A[i,j]=0.47147024759458755\n",
      "i=1 j=5 A[i,j]=0.27862860963662517\n",
      "i=1 j=6 A[i,j]=0.1796450331935483\n",
      "i=2 j=1 A[i,j]=0.9012555555431941\n",
      "i=2 j=2 A[i,j]=0.6604987970963634\n",
      "i=2 j=3 A[i,j]=0.31597332541685585\n",
      "i=2 j=4 A[i,j]=0.30518821955650555\n",
      "i=2 j=5 A[i,j]=0.1573994770051622\n",
      "i=2 j=6 A[i,j]=0.8965264570881125\n",
      "i=3 j=1 A[i,j]=0.1677893932885277\n",
      "i=3 j=2 A[i,j]=0.9945144671936252\n",
      "i=3 j=3 A[i,j]=0.6816726560619255\n",
      "i=3 j=4 A[i,j]=0.38944990849923167\n",
      "i=3 j=5 A[i,j]=0.42873933618839255\n",
      "i=3 j=6 A[i,j]=0.2789235926566792\n",
      "i=4 j=1 A[i,j]=0.5527930376050862\n",
      "i=4 j=2 A[i,j]=0.8480765683418183\n",
      "i=4 j=3 A[i,j]=0.5098478216542336\n",
      "i=4 j=4 A[i,j]=0.4270037493880544\n",
      "i=4 j=5 A[i,j]=0.004978748141870715\n",
      "i=4 j=6 A[i,j]=0.8476642086629517\n",
      "i=5 j=1 A[i,j]=0.13400291087519356\n",
      "i=5 j=2 A[i,j]=0.9510039647966851\n",
      "i=5 j=3 A[i,j]=0.06955082345940744\n",
      "i=5 j=4 A[i,j]=0.13965278077264298\n",
      "i=5 j=5 A[i,j]=0.9737806780538915\n",
      "i=5 j=6 A[i,j]=0.9996452733553626\n",
      "i=6 j=1 A[i,j]=0.04039630736754929\n",
      "i=6 j=2 A[i,j]=0.5502936485432538\n",
      "i=6 j=3 A[i,j]=0.13069698958786113\n",
      "i=6 j=4 A[i,j]=0.08295686470446728\n",
      "i=6 j=5 A[i,j]=0.35878739380938185\n",
      "i=6 j=6 A[i,j]=0.5027067939203741\n"
     ]
    }
   ],
   "source": [
    "A = rand(6,6)\n",
    "\n",
    "for i ∈ 1:size(A,1), j ∈ 1:size(A,2)\n",
    "    println(string(\"i=$(i) j=$(j) A[i,j]=$(A[i,j])\"))\n",
    "end"
   ]
  },
  {
   "attachments": {},
   "cell_type": "markdown",
   "metadata": {},
   "source": [
    "axes() returns the indices of each dimension of an array\n",
    "firstindex(A, dim)\n",
    "lastindex(A, dim)\n",
    "similar(Array{Float64}, axes(A)) - allocates an array with the same indices as A"
   ]
  },
  {
   "cell_type": "code",
   "execution_count": 14,
   "metadata": {},
   "outputs": [
    {
     "name": "stdout",
     "output_type": "stream",
     "text": [
      "i=1 j=1 A[i,j]=0.36473639754557285\n",
      "i=1 j=2 A[i,j]=0.8418614209906288\n",
      "i=1 j=3 A[i,j]=0.17598202402883545\n",
      "i=1 j=4 A[i,j]=0.7774080296598209\n",
      "i=1 j=5 A[i,j]=0.8722500579533251\n",
      "i=1 j=6 A[i,j]=0.3257782293635014\n",
      "i=2 j=1 A[i,j]=0.9269848276041295\n",
      "i=2 j=2 A[i,j]=0.5184378154800565\n",
      "i=2 j=3 A[i,j]=0.578373808581286\n",
      "i=2 j=4 A[i,j]=0.5725666478764179\n",
      "i=2 j=5 A[i,j]=0.530733707053744\n",
      "i=2 j=6 A[i,j]=0.6901087049634445\n",
      "i=3 j=1 A[i,j]=0.6190327353874071\n",
      "i=3 j=2 A[i,j]=0.20287347725835625\n",
      "i=3 j=3 A[i,j]=0.40123118720154094\n",
      "i=3 j=4 A[i,j]=0.21950468393359335\n",
      "i=3 j=5 A[i,j]=0.4476692182551175\n",
      "i=3 j=6 A[i,j]=0.34530339800008514\n",
      "i=4 j=1 A[i,j]=0.6994114420874331\n",
      "i=4 j=2 A[i,j]=0.3031063860174521"
     ]
    },
    {
     "name": "stdout",
     "output_type": "stream",
     "text": [
      "\n",
      "i=4 j=3 A[i,j]=0.07024476781883782\n",
      "i=4 j=4 A[i,j]=0.11964053927489038\n",
      "i=4 j=5 A[i,j]=0.06551117346692614\n",
      "i=4 j=6 A[i,j]=0.6553158029990159\n",
      "i=5 j=1 A[i,j]=0.6127927093119934\n",
      "i=5 j=2 A[i,j]=0.8000155021121635\n",
      "i=5 j=3 A[i,j]=0.8324183932461379\n",
      "i=5 j=4 A[i,j]=0.2840201983490295\n",
      "i=5 j=5 A[i,j]=0.02407615872714064\n",
      "i=5 j=6 A[i,j]=0.1710468013512797\n",
      "i=6 j=1 A[i,j]=0.6435623743409993\n",
      "i=6 j=2 A[i,j]=0.9473783366072495\n",
      "i=6 j=3 A[i,j]=0.5671505735250615\n",
      "i=6 j=4 A[i,j]=0.9540770957019011\n",
      "i=6 j=5 A[i,j]=0.03518544098998544\n",
      "i=6 j=6 A[i,j]=0.1779608012652747\n"
     ]
    }
   ],
   "source": [
    "A = rand(6,6)\n",
    "for i ∈ axes(A,1), j ∈ axes(A,2)\n",
    "    println(string(\"i=$(i) j=$(j) A[i,j]=$(A[i,j])\"))\n",
    "end"
   ]
  },
  {
   "attachments": {},
   "cell_type": "markdown",
   "metadata": {},
   "source": [
    "Matrix multiplcation\n",
    "\n",
    "A * B - will result in a normal matrix multiplication\n",
    "A * v - will multiply the matrix with the vector\n",
    "A .* B - element-wise multiplication"
   ]
  },
  {
   "cell_type": "code",
   "execution_count": 16,
   "metadata": {},
   "outputs": [
    {
     "data": {
      "text/plain": [
       "255.410485473247"
      ]
     },
     "metadata": {},
     "output_type": "display_data"
    }
   ],
   "source": [
    "v = rand(1000)\n",
    "w = rand(1000)\n",
    "z = v'w      # dot product"
   ]
  },
  {
   "attachments": {},
   "cell_type": "markdown",
   "metadata": {},
   "source": [
    "Backslash operator -\n",
    "For square matrices, Julia will try to solve the linear system, while for rectangle matrices, it will seek for the least squares solution"
   ]
  },
  {
   "cell_type": "code",
   "execution_count": 20,
   "metadata": {},
   "outputs": [
    {
     "ename": "DimensionMismatch",
     "evalue": "DimensionMismatch: arguments must have the same number of rows",
     "output_type": "error",
     "traceback": [
      "DimensionMismatch: arguments must have the same number of rows\n",
      "\n",
      "Stacktrace:\n",
      " [1] \\(F::LinearAlgebra.LU{Float64, Matrix{Float64}, Vector{Int64}}, B::Vector{Float64})\n",
      "   @ LinearAlgebra C:\\Users\\eldad\\AppData\\Local\\Programs\\Julia-1.8.5\\share\\julia\\stdlib\\v1.8\\LinearAlgebra\\src\\LinearAlgebra.jl:472\n",
      " [2] \\(A::Matrix{Float64}, B::Vector{Float64})\n",
      "   @ LinearAlgebra C:\\Users\\eldad\\AppData\\Local\\Programs\\Julia-1.8.5\\share\\julia\\stdlib\\v1.8\\LinearAlgebra\\src\\generic.jl:1110\n",
      " [3] top-level scope\n",
      "   @ c:\\Users\\eldad\\OneDrive\\Desktop\\Julia Tutorial\\Julia_Tutorial.ipynb:5"
     ]
    }
   ],
   "source": [
    "b1 = [4.0, 5, 6]        # 3-element Vector{Float64}\n",
    "b2 = [4.0; 5; 6]        # 3-element Vector{Float64}\n",
    "m1 = [4.0 5 6]          # 1x3 Matrix{Float64}\n",
    "\n",
    "X = A\\b1                # solves A*x = b\n",
    "X = A\\b1                # solves A*x = b\n",
    "X = A\\m1                # Error!"
   ]
  },
  {
   "attachments": {},
   "cell_type": "markdown",
   "metadata": {},
   "source": [
    "pushfirst!\n",
    "popfirst!\n",
    "splice!(A,i)\n",
    "deleteat!(A,i)"
   ]
  },
  {
   "cell_type": "code",
   "execution_count": 21,
   "metadata": {},
   "outputs": [
    {
     "data": {
      "text/plain": [
       "3.0"
      ]
     },
     "metadata": {},
     "output_type": "display_data"
    }
   ],
   "source": [
    "A = Float64[]       # Equivalent to A=Array{Float64}(undef, 0)\n",
    "push!(A, 4)         # Adds the number 4 at the ne dof the Array\n",
    "push!(A, 3)         # Addes the number 3 at the end of the Array\n",
    "v = pop!(A)"
   ]
  },
  {
   "cell_type": "code",
   "execution_count": null,
   "metadata": {},
   "outputs": [],
   "source": []
  }
 ],
 "metadata": {
  "kernelspec": {
   "display_name": "Julia 1.8.5",
   "language": "julia",
   "name": "julia-1.8"
  },
  "language_info": {
   "file_extension": ".jl",
   "mimetype": "application/julia",
   "name": "julia",
   "version": "1.8.5"
  },
  "orig_nbformat": 4
 },
 "nbformat": 4,
 "nbformat_minor": 2
}
